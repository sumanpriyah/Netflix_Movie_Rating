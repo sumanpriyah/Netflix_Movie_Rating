{
 "cells": [
  {
   "cell_type": "code",
   "execution_count": 1,
   "id": "a6485293",
   "metadata": {},
   "outputs": [],
   "source": [
    "#import matplotlib\n",
    "#import numpy as np\n",
    "#import os"
   ]
  },
  {
   "cell_type": "code",
   "execution_count": 2,
   "id": "4db6f997",
   "metadata": {},
   "outputs": [],
   "source": [
    "#make new df for worksheets\n",
    "#1: Title\n",
    "#2: Genre\n",
    "#3: Critic Data 1, 2, & 3\n",
    "#5: boxoffice numbers"
   ]
  },
  {
   "cell_type": "code",
   "execution_count": null,
   "id": "5f29eb48",
   "metadata": {},
   "outputs": [],
   "source": [
    "#Average critic ratings on genre "
   ]
  }
 ],
 "metadata": {
  "kernelspec": {
   "display_name": "PythonData",
   "language": "python",
   "name": "pythondata"
  },
  "language_info": {
   "codemirror_mode": {
    "name": "ipython",
    "version": 3
   },
   "file_extension": ".py",
   "mimetype": "text/x-python",
   "name": "python",
   "nbconvert_exporter": "python",
   "pygments_lexer": "ipython3",
   "version": "3.9.7"
  }
 },
 "nbformat": 4,
 "nbformat_minor": 5
}
